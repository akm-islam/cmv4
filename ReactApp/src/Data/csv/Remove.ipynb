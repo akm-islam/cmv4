{
 "cells": [
  {
   "cell_type": "code",
   "execution_count": 8,
   "metadata": {},
   "outputs": [],
   "source": [
    "import pandas as pd\n",
    "month=\"April\"\n",
    "df=pd.read_csv(month+\".csv\")\n",
    "df2=df[~df[\"topic_name\"].isin([\"Other\",\"Undecided\",\"Uncertain1\",\"Uncertain2\",\"Uncertain3\",\"Uncertain4\"])]"
   ]
  },
  {
   "cell_type": "code",
   "execution_count": 9,
   "metadata": {},
   "outputs": [
    {
     "data": {
      "text/plain": [
       "array(['Sanitation', 'Case Statistics', 'Mitigation Strategy',\n",
       "       'Spread of Virus', 'Vaccine Development', 'Trial Result',\n",
       "       'Global Impact', 'Demand of Mask', 'Crisis in Healthcare System',\n",
       "       'Infection Rate', 'Solidarity', 'Infection Rate by Race'],\n",
       "      dtype=object)"
      ]
     },
     "execution_count": 9,
     "metadata": {},
     "output_type": "execute_result"
    }
   ],
   "source": [
    "df2[\"topic_name\"].unique()"
   ]
  },
  {
   "cell_type": "code",
   "execution_count": 10,
   "metadata": {},
   "outputs": [],
   "source": [
    "df2.to_csv(month+\".csv\",index=None)"
   ]
  },
  {
   "cell_type": "code",
   "execution_count": null,
   "metadata": {},
   "outputs": [],
   "source": []
  }
 ],
 "metadata": {
  "kernelspec": {
   "display_name": "Python 3.10.7 64-bit",
   "language": "python",
   "name": "python3"
  },
  "language_info": {
   "codemirror_mode": {
    "name": "ipython",
    "version": 3
   },
   "file_extension": ".py",
   "mimetype": "text/x-python",
   "name": "python",
   "nbconvert_exporter": "python",
   "pygments_lexer": "ipython3",
   "version": "3.10.7"
  },
  "orig_nbformat": 4,
  "vscode": {
   "interpreter": {
    "hash": "d33dfb8c92e982cb5477617640794ab96707b0dcb5de64d73a4ccf9fc44656a1"
   }
  }
 },
 "nbformat": 4,
 "nbformat_minor": 2
}
