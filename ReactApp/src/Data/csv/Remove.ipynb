{
 "cells": [
  {
   "cell_type": "code",
   "execution_count": 1,
   "metadata": {},
   "outputs": [],
   "source": [
    "import pandas as pd"
   ]
  },
  {
   "cell_type": "code",
   "execution_count": 2,
   "metadata": {},
   "outputs": [],
   "source": [
    "df=pd.read_csv(\"May.csv\")"
   ]
  },
  {
   "cell_type": "code",
   "execution_count": 5,
   "metadata": {},
   "outputs": [],
   "source": [
    "df2=df[~df[\"topic_name\"].isin([\"Other\",\"Undecided\",\"Uncertain1\",\"Uncertain2\",\"Uncertain3\",\"Uncertain4\"])]"
   ]
  },
  {
   "cell_type": "code",
   "execution_count": 6,
   "metadata": {},
   "outputs": [
    {
     "data": {
      "text/plain": [
       "array(['Transmission of Virus', 'Spread of Virus',\n",
       "       'Isolation and Precaution', 'Global rise of Pandemic',\n",
       "       'Pandemic Impact on Grocery', 'Vaccine development',\n",
       "       'Treatments for Virus', 'Importance of mask Wearing',\n",
       "       'Case Statistics', 'Death Toll', 'Infection Rate by Race'],\n",
       "      dtype=object)"
      ]
     },
     "execution_count": 6,
     "metadata": {},
     "output_type": "execute_result"
    }
   ],
   "source": [
    "df2[\"topic_name\"].unique()"
   ]
  },
  {
   "cell_type": "code",
   "execution_count": 7,
   "metadata": {},
   "outputs": [],
   "source": [
    "df2.to_csv(\"May.csv\",index=None)"
   ]
  },
  {
   "cell_type": "code",
   "execution_count": null,
   "metadata": {},
   "outputs": [],
   "source": []
  }
 ],
 "metadata": {
  "kernelspec": {
   "display_name": "Python 3.10.7 64-bit",
   "language": "python",
   "name": "python3"
  },
  "language_info": {
   "codemirror_mode": {
    "name": "ipython",
    "version": 3
   },
   "file_extension": ".py",
   "mimetype": "text/x-python",
   "name": "python",
   "nbconvert_exporter": "python",
   "pygments_lexer": "ipython3",
   "version": "3.10.7"
  },
  "orig_nbformat": 4,
  "vscode": {
   "interpreter": {
    "hash": "d33dfb8c92e982cb5477617640794ab96707b0dcb5de64d73a4ccf9fc44656a1"
   }
  }
 },
 "nbformat": 4,
 "nbformat_minor": 2
}
