{
 "cells": [
  {
   "cell_type": "code",
   "execution_count": 19,
   "metadata": {},
   "outputs": [],
   "source": [
    "import pandas as pd\n",
    "month=\"May\"\n",
    "df1=pd.read_csv(month+\".csv\")\n",
    "topicdf=pd.read_csv(\"./TopicNamesAndKeywords/\"+month+\".csv\")\n",
    "mydict=dict(topicdf[[\"Topic Number\",\"Topic Name\"]].values)\n",
    "df1[\"topic_name\"]=df1['topic_number'].apply(lambda x:mydict[x])\n",
    "df1.to_csv(month+\".csv\",index=None)"
   ]
  },
  {
   "cell_type": "code",
   "execution_count": null,
   "metadata": {},
   "outputs": [],
   "source": []
  }
 ],
 "metadata": {
  "kernelspec": {
   "display_name": "Python 3.10.7 64-bit",
   "language": "python",
   "name": "python3"
  },
  "language_info": {
   "codemirror_mode": {
    "name": "ipython",
    "version": 3
   },
   "file_extension": ".py",
   "mimetype": "text/x-python",
   "name": "python",
   "nbconvert_exporter": "python",
   "pygments_lexer": "ipython3",
   "version": "3.10.7"
  },
  "orig_nbformat": 4,
  "vscode": {
   "interpreter": {
    "hash": "d33dfb8c92e982cb5477617640794ab96707b0dcb5de64d73a4ccf9fc44656a1"
   }
  }
 },
 "nbformat": 4,
 "nbformat_minor": 2
}
