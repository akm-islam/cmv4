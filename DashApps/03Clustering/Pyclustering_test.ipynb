{
 "cells": [
  {
   "cell_type": "code",
   "execution_count": 1,
   "metadata": {},
   "outputs": [],
   "source": [
    "import pandas as pd\n",
    "import json\n",
    "import numpy as np\n",
    "from pyclustering.cluster.center_initializer import kmeans_plusplus_initializer\n",
    "from pyclustering.cluster.kmeans import kmeans\n",
    "from pyclustering.utils.metric import type_metric, distance_metric\n",
    "from scipy.spatial import distance\n",
    "selected_month=\"March\"\n",
    "selected_topic=0"
   ]
  },
  {
   "cell_type": "code",
   "execution_count": 2,
   "metadata": {},
   "outputs": [],
   "source": [
    "df=pd.read_csv(\"./data/\"+selected_month+\".csv\")\n",
    "df_by_topic=df[df['topic_number']==selected_topic].reset_index()\n",
    "f = open(\"./data/keywords/\"+selected_month+'.json')    \n",
    "keywords_data = json.load(f)\n",
    "keywords=[i[0] for i in keywords_data[str(selected_topic)]]"
   ]
  },
  {
   "cell_type": "code",
   "execution_count": 38,
   "metadata": {},
   "outputs": [],
   "source": [
    "df_by_topic['subjective_prob_scaled']=df_by_topic['subjective_prob'].apply(lambda x:2*x-1)\n",
    "df_by_topic[\"SentimentScore_scaled\"]=df_by_topic[\"SentimentScore\"]/df_by_topic[\"SentimentScore\"].abs().max()"
   ]
  },
  {
   "cell_type": "code",
   "execution_count": 39,
   "metadata": {},
   "outputs": [],
   "source": [
    "def map_func(cleaned_tweet,subjective_prob_scaled,SentimentScore_scaled,keywords,alpha):\n",
    "    sentence_vector=[]\n",
    "    for word in keywords:\n",
    "        if(word in cleaned_tweet.split(\" \")):\n",
    "            sentence_vector.append(1)\n",
    "        else:\n",
    "            sentence_vector.append(0)\n",
    "    temp_vector1=np.append(sentence_vector,subjective_prob_scaled*alpha)\n",
    "    temp_vector2=np.append(temp_vector1,SentimentScore_scaled*alpha)\n",
    "    return temp_vector2\n",
    "df_by_topic[\"embedding\"]=df_by_topic.apply(lambda x:map_func(x.cleaned_tweet,x.subjective_prob_scaled,x.SentimentScore_scaled,keywords,0.1),axis=1)"
   ]
  },
  {
   "cell_type": "code",
   "execution_count": 40,
   "metadata": {},
   "outputs": [],
   "source": [
    "X=[]\n",
    "for item in df_by_topic[\"embedding\"]:\n",
    "    X.append(item)"
   ]
  },
  {
   "cell_type": "code",
   "execution_count": 18,
   "metadata": {},
   "outputs": [
    {
     "name": "stderr",
     "output_type": "stream",
     "text": [
      "/Library/Frameworks/Python.framework/Versions/3.10/lib/python3.10/site-packages/scipy/spatial/distance.py:630: RuntimeWarning: invalid value encountered in double_scalars\n",
      "  dist = 1.0 - uv / np.sqrt(uu * vv)\n"
     ]
    }
   ],
   "source": [
    "centers = kmeans_plusplus_initializer(X, 8, kmeans_plusplus_initializer.FARTHEST_CENTER_CANDIDATE).initialize() \n",
    "def distanceFunc(point1, point2):\n",
    "    return distance.cosine(point1[:10],point2[:10])+distance.euclidean(point1[10:12],point2[10:12])\n",
    "metric = distance_metric(type_metric.USER_DEFINED, func=distanceFunc)\n",
    "kmeans_instance = kmeans(X, centers, metric=metric)\n",
    "kmeans_instance.process()\n",
    "clusters = kmeans_instance.get_clusters()\n"
   ]
  },
  {
   "cell_type": "code",
   "execution_count": 33,
   "metadata": {},
   "outputs": [],
   "source": [
    "for index, cluster in enumerate(clusters):\n",
    "        for instance in cluster:\n",
    "            df_by_topic.loc[df_by_topic.index[instance], 'cluster_id'] = \"cluster \"+str(index)"
   ]
  },
  {
   "cell_type": "markdown",
   "metadata": {},
   "source": [
    "# TEST Clustering"
   ]
  },
  {
   "cell_type": "code",
   "execution_count": 8,
   "metadata": {},
   "outputs": [
    {
     "data": {
      "image/png": "[encoded data removed]",
      "text/plain": [
       "<Figure size 432x288 with 1 Axes>"
      ]
     },
     "metadata": {
      "needs_background": "light"
     },
     "output_type": "display_data"
    }
   ],
   "source": [
    "from pyclustering.cluster.center_initializer import kmeans_plusplus_initializer\n",
    "from pyclustering.cluster.kmeans import kmeans\n",
    "from pyclustering.cluster import cluster_visualizer\n",
    "from pyclustering.utils import read_sample\n",
    "from pyclustering.samples.definitions import SIMPLE_SAMPLES\n",
    " \n",
    "# Read data 'SampleSimple3' from Simple Sample collection.\n",
    "sample = read_sample(SIMPLE_SAMPLES.SAMPLE_SIMPLE3)\n",
    " \n",
    "# Calculate initial centers using K-Means++ method.\n",
    "centers = kmeans_plusplus_initializer(sample, 4, kmeans_plusplus_initializer.FARTHEST_CENTER_CANDIDATE).initialize()\n",
    " \n",
    "# Display initial centers.\n",
    "visualizer = cluster_visualizer()\n",
    "visualizer.append_cluster(sample)\n",
    "visualizer.append_cluster(centers, marker='*', markersize=10)\n",
    "visualizer.show()\n",
    " \n",
    "# Perform cluster analysis using K-Means algorithm with initial centers.\n",
    "kmeans_instance = kmeans(sample, centers)\n",
    " \n",
    "# Run clustering process and obtain result.\n",
    "kmeans_instance.process()\n",
    "clusters = kmeans_instance.get_clusters()"
   ]
  },
  {
   "cell_type": "code",
   "execution_count": null,
   "metadata": {},
   "outputs": [],
   "source": [
    "from pyclustering.cluster.kmeans import kmeans\n",
    "from pyclustering.utils.metric import type_metric, distance_metric\n",
    "from pyclustering.utils import read_sample\n",
    "from pyclustering.samples.definitions import SIMPLE_SAMPLES\n",
    " \n",
    "# Read data 'SampleSimple3' from Simple Sample collection.\n",
    "sample = read_sample(SIMPLE_SAMPLES.SAMPLE_SIMPLE3)\n",
    "def distanceFunc(point1, point2):\n",
    "    print(point1, point2)\n",
    "    return point1[0] + point2[0] + 2\n",
    "metric = distance_metric(type_metric.USER_DEFINED, func=distanceFunc)\n",
    "\n",
    "# create K-Means algorithm with specific distance metric\n",
    "start_centers = [[4.7, 5.9], [5.7, 6.5]];\n",
    "kmeans_instance = kmeans(sample, start_centers, metric=metric)\n",
    "\n",
    "# run cluster analysis and obtain results\n",
    "kmeans_instance.process()\n",
    "clusters = kmeans_instance.get_clusters()"
   ]
  },
  {
   "cell_type": "code",
   "execution_count": 13,
   "metadata": {},
   "outputs": [
    {
     "data": {
      "text/plain": [
       "60"
      ]
     },
     "execution_count": 13,
     "metadata": {},
     "output_type": "execute_result"
    }
   ],
   "source": [
    "len(sample)"
   ]
  },
  {
   "cell_type": "markdown",
   "metadata": {},
   "source": []
  }
 ],
 "metadata": {
  "interpreter": {
   "hash": "aee8b7b246df8f9039afb4144a1f6fd8d2ca17a180786b69acc140d282b71a49"
  },
  "kernelspec": {
   "display_name": "Python 3.10.0 64-bit",
   "language": "python",
   "name": "python3"
  },
  "language_info": {
   "codemirror_mode": {
    "name": "ipython",
    "version": 3
   },
   "file_extension": ".py",
   "mimetype": "text/x-python",
   "name": "python",
   "nbconvert_exporter": "python",
   "pygments_lexer": "ipython3",
   "version": "3.10.0"
  },
  "orig_nbformat": 4
 },
 "nbformat": 4,
 "nbformat_minor": 2
}
