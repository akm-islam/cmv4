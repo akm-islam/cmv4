{
 "cells": [
  {
   "cell_type": "code",
   "execution_count": 1,
   "metadata": {},
   "outputs": [],
   "source": [
    "import pandas as pd"
   ]
  },
  {
   "cell_type": "code",
   "execution_count": 2,
   "metadata": {},
   "outputs": [],
   "source": [
    "months=[\"March\",\"April\",\"May\"]\n",
    "temp={}\n",
    "for month in months:\n",
    "    df=pd.read_csv(\"./01RawData/\"+month+\".csv\")\n",
    "    df_label=pd.read_csv(\"./03TopicNamesByMonth/\"+month+\"TopicNames.csv\")\n",
    "    mydict = dict(zip(df_label[\"Topic Number\"], df_label[\"Topic Name\"]))\n",
    "    df[\"topic_name\"]=df[\"topic_number\"].map(lambda x:mydict[x])\n",
    "    df.to_csv(\"./04OutPut/\"+month+\".csv\",index=None)"
   ]
  }
 ],
 "metadata": {
  "kernelspec": {
   "display_name": "Python 3.10.7 64-bit",
   "language": "python",
   "name": "python3"
  },
  "language_info": {
   "codemirror_mode": {
    "name": "ipython",
    "version": 3
   },
   "file_extension": ".py",
   "mimetype": "text/x-python",
   "name": "python",
   "nbconvert_exporter": "python",
   "pygments_lexer": "ipython3",
   "version": "3.10.7"
  },
  "orig_nbformat": 4,
  "vscode": {
   "interpreter": {
    "hash": "d33dfb8c92e982cb5477617640794ab96707b0dcb5de64d73a4ccf9fc44656a1"
   }
  }
 },
 "nbformat": 4,
 "nbformat_minor": 2
}
